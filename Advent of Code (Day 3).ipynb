{
 "cells": [
  {
   "cell_type": "code",
   "execution_count": 13,
   "id": "ca4c41f8",
   "metadata": {},
   "outputs": [
    {
     "name": "stdout",
     "output_type": "stream",
     "text": [
      "7742\n"
     ]
    }
   ],
   "source": [
    "from string import ascii_letters\n",
    "\n",
    "\n",
    "with open('input day 3.txt', 'r') as input:\n",
    "    rucksacks = input.read().splitlines()\n",
    "    \n",
    "sum = 0\n",
    "\n",
    "for sack in rucksacks:\n",
    "    middle = len(sack) // 2\n",
    "    left = sack[:middle]\n",
    "    right = sack[middle:]\n",
    "    itemincommon = set(left).intersection(set(right))\n",
    "    sum += ascii_letters.index(itemincommon.pop()) + 1\n",
    "    \n",
    "print(sum)\n",
    "    \n",
    "    "
   ]
  },
  {
   "cell_type": "code",
   "execution_count": 17,
   "id": "56ee0a56",
   "metadata": {},
   "outputs": [
    {
     "name": "stdout",
     "output_type": "stream",
     "text": [
      "2276\n"
     ]
    }
   ],
   "source": [
    "total = 0 \n",
    "\n",
    "for sack in range(0, len(rucksacks)-1, 3):\n",
    "    group = rucksacks[sack:sack + 3]\n",
    "    itemincommon = set(group[0]).intersection(group[1]).intersection(group[2])\n",
    "    total += ascii_letters.index(itemincommon.pop()) + 1\n",
    "print(total)"
   ]
  }
 ],
 "metadata": {
  "kernelspec": {
   "display_name": "Python 3 (ipykernel)",
   "language": "python",
   "name": "python3"
  },
  "language_info": {
   "codemirror_mode": {
    "name": "ipython",
    "version": 3
   },
   "file_extension": ".py",
   "mimetype": "text/x-python",
   "name": "python",
   "nbconvert_exporter": "python",
   "pygments_lexer": "ipython3",
   "version": "3.9.7"
  }
 },
 "nbformat": 4,
 "nbformat_minor": 5
}
