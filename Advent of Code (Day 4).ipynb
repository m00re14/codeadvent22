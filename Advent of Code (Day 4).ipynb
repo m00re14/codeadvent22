{
 "cells": [
  {
   "cell_type": "code",
   "execution_count": 11,
   "id": "283caeb6",
   "metadata": {},
   "outputs": [],
   "source": [
    "with open('input day 4.txt', 'r') as input:\n",
    "    assignments = input.read().splitlines()\n",
    "\n",
    "\n",
    "#print(assignments)"
   ]
  },
  {
   "cell_type": "code",
   "execution_count": 24,
   "id": "ab06f676",
   "metadata": {},
   "outputs": [],
   "source": [
    "allPairs = [[[int(i) for i in sec.split('-')] for sec in row.split(',')] for row in assignments]\n",
    "\n",
    "#print(allPairs)"
   ]
  },
  {
   "cell_type": "code",
   "execution_count": 22,
   "id": "45f25e4c",
   "metadata": {},
   "outputs": [
    {
     "name": "stdout",
     "output_type": "stream",
     "text": [
      "Answer to part 1 is:  582\n"
     ]
    }
   ],
   "source": [
    "def part1():\n",
    "    pairs = allPairs\n",
    "    i = 0\n",
    "    counter = 0\n",
    "    for pair in pairs:\n",
    "        first = set(range(pair[0][0], pair[0][1]+1))\n",
    "        second = set(range(pair[1][0], pair[1][1]+1))\n",
    "        if first <= second:\n",
    "            counter += 1\n",
    "        elif second < first:\n",
    "            counter += 1\n",
    "        i += 1\n",
    "    return counter\n",
    "print(\"Answer to part 1 is: \", part1())"
   ]
  },
  {
   "cell_type": "code",
   "execution_count": 23,
   "id": "7425d47f",
   "metadata": {},
   "outputs": [
    {
     "name": "stdout",
     "output_type": "stream",
     "text": [
      "Answer to part 2 is:  893\n"
     ]
    }
   ],
   "source": [
    "def part2():\n",
    "    pairs = allPairs\n",
    "    i = 0\n",
    "    counter = 0\n",
    "    for pair in pairs:\n",
    "        first = set(range(pair[0][0], pair[0][1]+1))\n",
    "        second = set(range(pair[1][0], pair[1][1]+1))\n",
    "        if not first.isdisjoint(second):\n",
    "            counter += 1\n",
    "        i += 1\n",
    "    return counter\n",
    "print(\"Answer to part 2 is: \", part2())"
   ]
  },
  {
   "cell_type": "code",
   "execution_count": null,
   "id": "6631b3f6",
   "metadata": {},
   "outputs": [],
   "source": []
  }
 ],
 "metadata": {
  "kernelspec": {
   "display_name": "Python 3 (ipykernel)",
   "language": "python",
   "name": "python3"
  },
  "language_info": {
   "codemirror_mode": {
    "name": "ipython",
    "version": 3
   },
   "file_extension": ".py",
   "mimetype": "text/x-python",
   "name": "python",
   "nbconvert_exporter": "python",
   "pygments_lexer": "ipython3",
   "version": "3.9.7"
  }
 },
 "nbformat": 4,
 "nbformat_minor": 5
}
