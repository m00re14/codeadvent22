{
 "cells": [
  {
   "cell_type": "code",
   "execution_count": 2,
   "id": "dc95fa35",
   "metadata": {},
   "outputs": [],
   "source": [
    "with open(\"input.txt\", \"r\", encoding=\"utf-8\") as infile:\n",
    "    data = infile.read().splitlines()\n",
    "\n",
    "calories_per_elf: list[int] = []\n",
    "current_calories = 0\n",
    "\n",
    "for value in data:\n",
    "    if value:\n",
    "        current_calories += int(value)\n",
    "    else:\n",
    "        calories_per_elf.append(current_calories)\n",
    "        current_calories = 0"
   ]
  },
  {
   "cell_type": "code",
   "execution_count": 3,
   "id": "c6393b65",
   "metadata": {},
   "outputs": [
    {
     "name": "stdout",
     "output_type": "stream",
     "text": [
      "69912\n",
      "208180\n"
     ]
    }
   ],
   "source": [
    "#part 1\n",
    "print(max(calories_per_elf))\n",
    "\n",
    "#part 2\n",
    "calories_per_elf.sort(reverse=True)\n",
    "print(sum(calories_per_elf[:3]))"
   ]
  },
  {
   "cell_type": "code",
   "execution_count": null,
   "id": "8100bfac",
   "metadata": {},
   "outputs": [],
   "source": []
  }
 ],
 "metadata": {
  "kernelspec": {
   "display_name": "Python 3 (ipykernel)",
   "language": "python",
   "name": "python3"
  },
  "language_info": {
   "codemirror_mode": {
    "name": "ipython",
    "version": 3
   },
   "file_extension": ".py",
   "mimetype": "text/x-python",
   "name": "python",
   "nbconvert_exporter": "python",
   "pygments_lexer": "ipython3",
   "version": "3.9.7"
  }
 },
 "nbformat": 4,
 "nbformat_minor": 5
}
